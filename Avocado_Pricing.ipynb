{
  "nbformat": 4,
  "nbformat_minor": 0,
  "metadata": {
    "colab": {
      "name": "Avocado Pricing",
      "provenance": [],
      "collapsed_sections": [],
      "authorship_tag": "ABX9TyNNJLKdaVFAV+mi09E7lkUc",
      "include_colab_link": true
    },
    "kernelspec": {
      "name": "python3",
      "display_name": "Python 3"
    }
  },
  "cells": [
    {
      "cell_type": "markdown",
      "metadata": {
        "id": "view-in-github",
        "colab_type": "text"
      },
      "source": [
        "<a href=\"https://colab.research.google.com/github/eadamian/Big-Data-Analytics/blob/master/Avocado_Pricing.ipynb\" target=\"_parent\"><img src=\"https://colab.research.google.com/assets/colab-badge.svg\" alt=\"Open In Colab\"/></a>"
      ]
    },
    {
      "cell_type": "code",
      "metadata": {
        "id": "VesHC0Nb5-IM",
        "colab_type": "code",
        "colab": {
          "resources": {
            "http://localhost:8080/nbextensions/google.colab/files.js": {
              "data": "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",
              "ok": true,
              "headers": [
                [
                  "content-type",
                  "application/javascript"
                ]
              ],
              "status": 200,
              "status_text": ""
            }
          },
          "base_uri": "https://localhost:8080/",
          "height": 70
        },
        "outputId": "3a195c55-957f-4c03-9da6-f41702440ebd"
      },
      "source": [
        "from pandas import Series, DataFrame\n",
        "import pandas as pd\n",
        "import numpy as np\n",
        "import matplotlib.pyplot as plt\n",
        "import seaborn as sns\n",
        "from google.colab import files\n",
        "uploaded = files.upload()\n",
        "\n",
        "# uploading file\n",
        "df = pd.read_csv(\"avocado.csv\")"
      ],
      "execution_count": 10,
      "outputs": [
        {
          "output_type": "display_data",
          "data": {
            "text/html": [
              "\n",
              "     <input type=\"file\" id=\"files-f6526255-fee1-443a-bd34-4b41673d2718\" name=\"files[]\" multiple disabled />\n",
              "     <output id=\"result-f6526255-fee1-443a-bd34-4b41673d2718\">\n",
              "      Upload widget is only available when the cell has been executed in the\n",
              "      current browser session. Please rerun this cell to enable.\n",
              "      </output>\n",
              "      <script src=\"/nbextensions/google.colab/files.js\"></script> "
            ],
            "text/plain": [
              "<IPython.core.display.HTML object>"
            ]
          },
          "metadata": {
            "tags": []
          }
        },
        {
          "output_type": "stream",
          "text": [
            "Saving avocado.csv to avocado (7).csv\n"
          ],
          "name": "stdout"
        }
      ]
    },
    {
      "cell_type": "markdown",
      "metadata": {
        "id": "NYNQQSH18FsH",
        "colab_type": "text"
      },
      "source": [
        "## ***What are the first 15 inputs of the data set?***"
      ]
    },
    {
      "cell_type": "code",
      "metadata": {
        "id": "IHBaYzPb8Or4",
        "colab_type": "code",
        "colab": {
          "base_uri": "https://localhost:8080/",
          "height": 478
        },
        "outputId": "c713b434-4521-43d2-d6d5-b669dcc08f91"
      },
      "source": [
        "df.head(15)"
      ],
      "execution_count": 11,
      "outputs": [
        {
          "output_type": "execute_result",
          "data": {
            "text/html": [
              "<div>\n",
              "<style scoped>\n",
              "    .dataframe tbody tr th:only-of-type {\n",
              "        vertical-align: middle;\n",
              "    }\n",
              "\n",
              "    .dataframe tbody tr th {\n",
              "        vertical-align: top;\n",
              "    }\n",
              "\n",
              "    .dataframe thead th {\n",
              "        text-align: right;\n",
              "    }\n",
              "</style>\n",
              "<table border=\"1\" class=\"dataframe\">\n",
              "  <thead>\n",
              "    <tr style=\"text-align: right;\">\n",
              "      <th></th>\n",
              "      <th>Unnamed: 0</th>\n",
              "      <th>Date</th>\n",
              "      <th>AveragePrice</th>\n",
              "      <th>Total Volume</th>\n",
              "      <th>4046</th>\n",
              "      <th>4225</th>\n",
              "      <th>4770</th>\n",
              "      <th>Total Bags</th>\n",
              "      <th>Small Bags</th>\n",
              "      <th>Large Bags</th>\n",
              "      <th>XLarge Bags</th>\n",
              "      <th>type</th>\n",
              "      <th>year</th>\n",
              "      <th>region</th>\n",
              "    </tr>\n",
              "  </thead>\n",
              "  <tbody>\n",
              "    <tr>\n",
              "      <th>0</th>\n",
              "      <td>0</td>\n",
              "      <td>2015-12-27</td>\n",
              "      <td>1.33</td>\n",
              "      <td>64236.62</td>\n",
              "      <td>1036.74</td>\n",
              "      <td>54454.85</td>\n",
              "      <td>48.16</td>\n",
              "      <td>8696.87</td>\n",
              "      <td>8603.62</td>\n",
              "      <td>93.25</td>\n",
              "      <td>0.0</td>\n",
              "      <td>conventional</td>\n",
              "      <td>2015</td>\n",
              "      <td>Albany</td>\n",
              "    </tr>\n",
              "    <tr>\n",
              "      <th>1</th>\n",
              "      <td>1</td>\n",
              "      <td>2015-12-20</td>\n",
              "      <td>1.35</td>\n",
              "      <td>54876.98</td>\n",
              "      <td>674.28</td>\n",
              "      <td>44638.81</td>\n",
              "      <td>58.33</td>\n",
              "      <td>9505.56</td>\n",
              "      <td>9408.07</td>\n",
              "      <td>97.49</td>\n",
              "      <td>0.0</td>\n",
              "      <td>conventional</td>\n",
              "      <td>2015</td>\n",
              "      <td>Albany</td>\n",
              "    </tr>\n",
              "    <tr>\n",
              "      <th>2</th>\n",
              "      <td>2</td>\n",
              "      <td>2015-12-13</td>\n",
              "      <td>0.93</td>\n",
              "      <td>118220.22</td>\n",
              "      <td>794.70</td>\n",
              "      <td>109149.67</td>\n",
              "      <td>130.50</td>\n",
              "      <td>8145.35</td>\n",
              "      <td>8042.21</td>\n",
              "      <td>103.14</td>\n",
              "      <td>0.0</td>\n",
              "      <td>conventional</td>\n",
              "      <td>2015</td>\n",
              "      <td>Albany</td>\n",
              "    </tr>\n",
              "    <tr>\n",
              "      <th>3</th>\n",
              "      <td>3</td>\n",
              "      <td>2015-12-06</td>\n",
              "      <td>1.08</td>\n",
              "      <td>78992.15</td>\n",
              "      <td>1132.00</td>\n",
              "      <td>71976.41</td>\n",
              "      <td>72.58</td>\n",
              "      <td>5811.16</td>\n",
              "      <td>5677.40</td>\n",
              "      <td>133.76</td>\n",
              "      <td>0.0</td>\n",
              "      <td>conventional</td>\n",
              "      <td>2015</td>\n",
              "      <td>Albany</td>\n",
              "    </tr>\n",
              "    <tr>\n",
              "      <th>4</th>\n",
              "      <td>4</td>\n",
              "      <td>2015-11-29</td>\n",
              "      <td>1.28</td>\n",
              "      <td>51039.60</td>\n",
              "      <td>941.48</td>\n",
              "      <td>43838.39</td>\n",
              "      <td>75.78</td>\n",
              "      <td>6183.95</td>\n",
              "      <td>5986.26</td>\n",
              "      <td>197.69</td>\n",
              "      <td>0.0</td>\n",
              "      <td>conventional</td>\n",
              "      <td>2015</td>\n",
              "      <td>Albany</td>\n",
              "    </tr>\n",
              "    <tr>\n",
              "      <th>5</th>\n",
              "      <td>5</td>\n",
              "      <td>2015-11-22</td>\n",
              "      <td>1.26</td>\n",
              "      <td>55979.78</td>\n",
              "      <td>1184.27</td>\n",
              "      <td>48067.99</td>\n",
              "      <td>43.61</td>\n",
              "      <td>6683.91</td>\n",
              "      <td>6556.47</td>\n",
              "      <td>127.44</td>\n",
              "      <td>0.0</td>\n",
              "      <td>conventional</td>\n",
              "      <td>2015</td>\n",
              "      <td>Albany</td>\n",
              "    </tr>\n",
              "    <tr>\n",
              "      <th>6</th>\n",
              "      <td>6</td>\n",
              "      <td>2015-11-15</td>\n",
              "      <td>0.99</td>\n",
              "      <td>83453.76</td>\n",
              "      <td>1368.92</td>\n",
              "      <td>73672.72</td>\n",
              "      <td>93.26</td>\n",
              "      <td>8318.86</td>\n",
              "      <td>8196.81</td>\n",
              "      <td>122.05</td>\n",
              "      <td>0.0</td>\n",
              "      <td>conventional</td>\n",
              "      <td>2015</td>\n",
              "      <td>Albany</td>\n",
              "    </tr>\n",
              "    <tr>\n",
              "      <th>7</th>\n",
              "      <td>7</td>\n",
              "      <td>2015-11-08</td>\n",
              "      <td>0.98</td>\n",
              "      <td>109428.33</td>\n",
              "      <td>703.75</td>\n",
              "      <td>101815.36</td>\n",
              "      <td>80.00</td>\n",
              "      <td>6829.22</td>\n",
              "      <td>6266.85</td>\n",
              "      <td>562.37</td>\n",
              "      <td>0.0</td>\n",
              "      <td>conventional</td>\n",
              "      <td>2015</td>\n",
              "      <td>Albany</td>\n",
              "    </tr>\n",
              "    <tr>\n",
              "      <th>8</th>\n",
              "      <td>8</td>\n",
              "      <td>2015-11-01</td>\n",
              "      <td>1.02</td>\n",
              "      <td>99811.42</td>\n",
              "      <td>1022.15</td>\n",
              "      <td>87315.57</td>\n",
              "      <td>85.34</td>\n",
              "      <td>11388.36</td>\n",
              "      <td>11104.53</td>\n",
              "      <td>283.83</td>\n",
              "      <td>0.0</td>\n",
              "      <td>conventional</td>\n",
              "      <td>2015</td>\n",
              "      <td>Albany</td>\n",
              "    </tr>\n",
              "    <tr>\n",
              "      <th>9</th>\n",
              "      <td>9</td>\n",
              "      <td>2015-10-25</td>\n",
              "      <td>1.07</td>\n",
              "      <td>74338.76</td>\n",
              "      <td>842.40</td>\n",
              "      <td>64757.44</td>\n",
              "      <td>113.00</td>\n",
              "      <td>8625.92</td>\n",
              "      <td>8061.47</td>\n",
              "      <td>564.45</td>\n",
              "      <td>0.0</td>\n",
              "      <td>conventional</td>\n",
              "      <td>2015</td>\n",
              "      <td>Albany</td>\n",
              "    </tr>\n",
              "    <tr>\n",
              "      <th>10</th>\n",
              "      <td>10</td>\n",
              "      <td>2015-10-18</td>\n",
              "      <td>1.12</td>\n",
              "      <td>84843.44</td>\n",
              "      <td>924.86</td>\n",
              "      <td>75595.85</td>\n",
              "      <td>117.07</td>\n",
              "      <td>8205.66</td>\n",
              "      <td>7877.86</td>\n",
              "      <td>327.80</td>\n",
              "      <td>0.0</td>\n",
              "      <td>conventional</td>\n",
              "      <td>2015</td>\n",
              "      <td>Albany</td>\n",
              "    </tr>\n",
              "    <tr>\n",
              "      <th>11</th>\n",
              "      <td>11</td>\n",
              "      <td>2015-10-11</td>\n",
              "      <td>1.28</td>\n",
              "      <td>64489.17</td>\n",
              "      <td>1582.03</td>\n",
              "      <td>52677.92</td>\n",
              "      <td>105.32</td>\n",
              "      <td>10123.90</td>\n",
              "      <td>9866.27</td>\n",
              "      <td>257.63</td>\n",
              "      <td>0.0</td>\n",
              "      <td>conventional</td>\n",
              "      <td>2015</td>\n",
              "      <td>Albany</td>\n",
              "    </tr>\n",
              "    <tr>\n",
              "      <th>12</th>\n",
              "      <td>12</td>\n",
              "      <td>2015-10-04</td>\n",
              "      <td>1.31</td>\n",
              "      <td>61007.10</td>\n",
              "      <td>2268.32</td>\n",
              "      <td>49880.67</td>\n",
              "      <td>101.36</td>\n",
              "      <td>8756.75</td>\n",
              "      <td>8379.98</td>\n",
              "      <td>376.77</td>\n",
              "      <td>0.0</td>\n",
              "      <td>conventional</td>\n",
              "      <td>2015</td>\n",
              "      <td>Albany</td>\n",
              "    </tr>\n",
              "    <tr>\n",
              "      <th>13</th>\n",
              "      <td>13</td>\n",
              "      <td>2015-09-27</td>\n",
              "      <td>0.99</td>\n",
              "      <td>106803.39</td>\n",
              "      <td>1204.88</td>\n",
              "      <td>99409.21</td>\n",
              "      <td>154.84</td>\n",
              "      <td>6034.46</td>\n",
              "      <td>5888.87</td>\n",
              "      <td>145.59</td>\n",
              "      <td>0.0</td>\n",
              "      <td>conventional</td>\n",
              "      <td>2015</td>\n",
              "      <td>Albany</td>\n",
              "    </tr>\n",
              "    <tr>\n",
              "      <th>14</th>\n",
              "      <td>14</td>\n",
              "      <td>2015-09-20</td>\n",
              "      <td>1.33</td>\n",
              "      <td>69759.01</td>\n",
              "      <td>1028.03</td>\n",
              "      <td>59313.12</td>\n",
              "      <td>150.50</td>\n",
              "      <td>9267.36</td>\n",
              "      <td>8489.10</td>\n",
              "      <td>778.26</td>\n",
              "      <td>0.0</td>\n",
              "      <td>conventional</td>\n",
              "      <td>2015</td>\n",
              "      <td>Albany</td>\n",
              "    </tr>\n",
              "  </tbody>\n",
              "</table>\n",
              "</div>"
            ],
            "text/plain": [
              "    Unnamed: 0        Date  AveragePrice  ...          type  year  region\n",
              "0            0  2015-12-27          1.33  ...  conventional  2015  Albany\n",
              "1            1  2015-12-20          1.35  ...  conventional  2015  Albany\n",
              "2            2  2015-12-13          0.93  ...  conventional  2015  Albany\n",
              "3            3  2015-12-06          1.08  ...  conventional  2015  Albany\n",
              "4            4  2015-11-29          1.28  ...  conventional  2015  Albany\n",
              "5            5  2015-11-22          1.26  ...  conventional  2015  Albany\n",
              "6            6  2015-11-15          0.99  ...  conventional  2015  Albany\n",
              "7            7  2015-11-08          0.98  ...  conventional  2015  Albany\n",
              "8            8  2015-11-01          1.02  ...  conventional  2015  Albany\n",
              "9            9  2015-10-25          1.07  ...  conventional  2015  Albany\n",
              "10          10  2015-10-18          1.12  ...  conventional  2015  Albany\n",
              "11          11  2015-10-11          1.28  ...  conventional  2015  Albany\n",
              "12          12  2015-10-04          1.31  ...  conventional  2015  Albany\n",
              "13          13  2015-09-27          0.99  ...  conventional  2015  Albany\n",
              "14          14  2015-09-20          1.33  ...  conventional  2015  Albany\n",
              "\n",
              "[15 rows x 14 columns]"
            ]
          },
          "metadata": {
            "tags": []
          },
          "execution_count": 11
        }
      ]
    },
    {
      "cell_type": "markdown",
      "metadata": {
        "id": "FiQekeHe97Gq",
        "colab_type": "text"
      },
      "source": [
        "## ***What is the mean of the 'total volume' column (data set)?***"
      ]
    },
    {
      "cell_type": "code",
      "metadata": {
        "id": "8noDscQf-ZAa",
        "colab_type": "code",
        "colab": {
          "base_uri": "https://localhost:8080/",
          "height": 1000
        },
        "outputId": "0dd5c085-f953-4b1b-c782-84a334af14ab"
      },
      "source": [
        "df.groupby('region')[['Total Volume']].mean()"
      ],
      "execution_count": 17,
      "outputs": [
        {
          "output_type": "execute_result",
          "data": {
            "text/html": [
              "<div>\n",
              "<style scoped>\n",
              "    .dataframe tbody tr th:only-of-type {\n",
              "        vertical-align: middle;\n",
              "    }\n",
              "\n",
              "    .dataframe tbody tr th {\n",
              "        vertical-align: top;\n",
              "    }\n",
              "\n",
              "    .dataframe thead th {\n",
              "        text-align: right;\n",
              "    }\n",
              "</style>\n",
              "<table border=\"1\" class=\"dataframe\">\n",
              "  <thead>\n",
              "    <tr style=\"text-align: right;\">\n",
              "      <th></th>\n",
              "      <th>Total Volume</th>\n",
              "    </tr>\n",
              "    <tr>\n",
              "      <th>region</th>\n",
              "      <th></th>\n",
              "    </tr>\n",
              "  </thead>\n",
              "  <tbody>\n",
              "    <tr>\n",
              "      <th>Albany</th>\n",
              "      <td>4.753787e+04</td>\n",
              "    </tr>\n",
              "    <tr>\n",
              "      <th>Atlanta</th>\n",
              "      <td>2.621453e+05</td>\n",
              "    </tr>\n",
              "    <tr>\n",
              "      <th>BaltimoreWashington</th>\n",
              "      <td>3.985619e+05</td>\n",
              "    </tr>\n",
              "    <tr>\n",
              "      <th>Boise</th>\n",
              "      <td>4.264257e+04</td>\n",
              "    </tr>\n",
              "    <tr>\n",
              "      <th>Boston</th>\n",
              "      <td>2.877929e+05</td>\n",
              "    </tr>\n",
              "    <tr>\n",
              "      <th>BuffaloRochester</th>\n",
              "      <td>6.793630e+04</td>\n",
              "    </tr>\n",
              "    <tr>\n",
              "      <th>California</th>\n",
              "      <td>3.044324e+06</td>\n",
              "    </tr>\n",
              "    <tr>\n",
              "      <th>Charlotte</th>\n",
              "      <td>1.051939e+05</td>\n",
              "    </tr>\n",
              "    <tr>\n",
              "      <th>Chicago</th>\n",
              "      <td>3.955690e+05</td>\n",
              "    </tr>\n",
              "    <tr>\n",
              "      <th>CincinnatiDayton</th>\n",
              "      <td>1.317219e+05</td>\n",
              "    </tr>\n",
              "    <tr>\n",
              "      <th>Columbus</th>\n",
              "      <td>8.873776e+04</td>\n",
              "    </tr>\n",
              "    <tr>\n",
              "      <th>DallasFtWorth</th>\n",
              "      <td>6.166251e+05</td>\n",
              "    </tr>\n",
              "    <tr>\n",
              "      <th>Denver</th>\n",
              "      <td>4.109542e+05</td>\n",
              "    </tr>\n",
              "    <tr>\n",
              "      <th>Detroit</th>\n",
              "      <td>1.876403e+05</td>\n",
              "    </tr>\n",
              "    <tr>\n",
              "      <th>GrandRapids</th>\n",
              "      <td>8.938383e+04</td>\n",
              "    </tr>\n",
              "    <tr>\n",
              "      <th>GreatLakes</th>\n",
              "      <td>1.744505e+06</td>\n",
              "    </tr>\n",
              "    <tr>\n",
              "      <th>HarrisburgScranton</th>\n",
              "      <td>1.236948e+05</td>\n",
              "    </tr>\n",
              "    <tr>\n",
              "      <th>HartfordSpringfield</th>\n",
              "      <td>1.499128e+05</td>\n",
              "    </tr>\n",
              "    <tr>\n",
              "      <th>Houston</th>\n",
              "      <td>6.010884e+05</td>\n",
              "    </tr>\n",
              "    <tr>\n",
              "      <th>Indianapolis</th>\n",
              "      <td>8.953666e+04</td>\n",
              "    </tr>\n",
              "    <tr>\n",
              "      <th>Jacksonville</th>\n",
              "      <td>8.517753e+04</td>\n",
              "    </tr>\n",
              "    <tr>\n",
              "      <th>LasVegas</th>\n",
              "      <td>1.608784e+05</td>\n",
              "    </tr>\n",
              "    <tr>\n",
              "      <th>LosAngeles</th>\n",
              "      <td>1.502653e+06</td>\n",
              "    </tr>\n",
              "    <tr>\n",
              "      <th>Louisville</th>\n",
              "      <td>4.762427e+04</td>\n",
              "    </tr>\n",
              "    <tr>\n",
              "      <th>MiamiFtLauderdale</th>\n",
              "      <td>2.889740e+05</td>\n",
              "    </tr>\n",
              "    <tr>\n",
              "      <th>Midsouth</th>\n",
              "      <td>1.503992e+06</td>\n",
              "    </tr>\n",
              "    <tr>\n",
              "      <th>Nashville</th>\n",
              "      <td>1.053612e+05</td>\n",
              "    </tr>\n",
              "    <tr>\n",
              "      <th>NewOrleansMobile</th>\n",
              "      <td>1.351927e+05</td>\n",
              "    </tr>\n",
              "    <tr>\n",
              "      <th>NewYork</th>\n",
              "      <td>7.122311e+05</td>\n",
              "    </tr>\n",
              "    <tr>\n",
              "      <th>Northeast</th>\n",
              "      <td>2.110299e+06</td>\n",
              "    </tr>\n",
              "    <tr>\n",
              "      <th>NorthernNewEngland</th>\n",
              "      <td>2.116358e+05</td>\n",
              "    </tr>\n",
              "    <tr>\n",
              "      <th>Orlando</th>\n",
              "      <td>1.735524e+05</td>\n",
              "    </tr>\n",
              "    <tr>\n",
              "      <th>Philadelphia</th>\n",
              "      <td>2.125408e+05</td>\n",
              "    </tr>\n",
              "    <tr>\n",
              "      <th>PhoenixTucson</th>\n",
              "      <td>5.788264e+05</td>\n",
              "    </tr>\n",
              "    <tr>\n",
              "      <th>Pittsburgh</th>\n",
              "      <td>5.564008e+04</td>\n",
              "    </tr>\n",
              "    <tr>\n",
              "      <th>Plains</th>\n",
              "      <td>9.206761e+05</td>\n",
              "    </tr>\n",
              "    <tr>\n",
              "      <th>Portland</th>\n",
              "      <td>3.270775e+05</td>\n",
              "    </tr>\n",
              "    <tr>\n",
              "      <th>RaleighGreensboro</th>\n",
              "      <td>1.426116e+05</td>\n",
              "    </tr>\n",
              "    <tr>\n",
              "      <th>RichmondNorfolk</th>\n",
              "      <td>1.249433e+05</td>\n",
              "    </tr>\n",
              "    <tr>\n",
              "      <th>Roanoke</th>\n",
              "      <td>7.408879e+04</td>\n",
              "    </tr>\n",
              "    <tr>\n",
              "      <th>Sacramento</th>\n",
              "      <td>2.223779e+05</td>\n",
              "    </tr>\n",
              "    <tr>\n",
              "      <th>SanDiego</th>\n",
              "      <td>2.656566e+05</td>\n",
              "    </tr>\n",
              "    <tr>\n",
              "      <th>SanFrancisco</th>\n",
              "      <td>4.018645e+05</td>\n",
              "    </tr>\n",
              "    <tr>\n",
              "      <th>Seattle</th>\n",
              "      <td>3.231189e+05</td>\n",
              "    </tr>\n",
              "    <tr>\n",
              "      <th>SouthCarolina</th>\n",
              "      <td>1.797449e+05</td>\n",
              "    </tr>\n",
              "    <tr>\n",
              "      <th>SouthCentral</th>\n",
              "      <td>2.991952e+06</td>\n",
              "    </tr>\n",
              "    <tr>\n",
              "      <th>Southeast</th>\n",
              "      <td>1.820232e+06</td>\n",
              "    </tr>\n",
              "    <tr>\n",
              "      <th>Spokane</th>\n",
              "      <td>4.605111e+04</td>\n",
              "    </tr>\n",
              "    <tr>\n",
              "      <th>StLouis</th>\n",
              "      <td>9.489004e+04</td>\n",
              "    </tr>\n",
              "    <tr>\n",
              "      <th>Syracuse</th>\n",
              "      <td>3.237476e+04</td>\n",
              "    </tr>\n",
              "    <tr>\n",
              "      <th>Tampa</th>\n",
              "      <td>1.952797e+05</td>\n",
              "    </tr>\n",
              "    <tr>\n",
              "      <th>TotalUS</th>\n",
              "      <td>1.735130e+07</td>\n",
              "    </tr>\n",
              "    <tr>\n",
              "      <th>West</th>\n",
              "      <td>3.215323e+06</td>\n",
              "    </tr>\n",
              "    <tr>\n",
              "      <th>WestTexNewMexico</th>\n",
              "      <td>4.314085e+05</td>\n",
              "    </tr>\n",
              "  </tbody>\n",
              "</table>\n",
              "</div>"
            ],
            "text/plain": [
              "                     Total Volume\n",
              "region                           \n",
              "Albany               4.753787e+04\n",
              "Atlanta              2.621453e+05\n",
              "BaltimoreWashington  3.985619e+05\n",
              "Boise                4.264257e+04\n",
              "Boston               2.877929e+05\n",
              "BuffaloRochester     6.793630e+04\n",
              "California           3.044324e+06\n",
              "Charlotte            1.051939e+05\n",
              "Chicago              3.955690e+05\n",
              "CincinnatiDayton     1.317219e+05\n",
              "Columbus             8.873776e+04\n",
              "DallasFtWorth        6.166251e+05\n",
              "Denver               4.109542e+05\n",
              "Detroit              1.876403e+05\n",
              "GrandRapids          8.938383e+04\n",
              "GreatLakes           1.744505e+06\n",
              "HarrisburgScranton   1.236948e+05\n",
              "HartfordSpringfield  1.499128e+05\n",
              "Houston              6.010884e+05\n",
              "Indianapolis         8.953666e+04\n",
              "Jacksonville         8.517753e+04\n",
              "LasVegas             1.608784e+05\n",
              "LosAngeles           1.502653e+06\n",
              "Louisville           4.762427e+04\n",
              "MiamiFtLauderdale    2.889740e+05\n",
              "Midsouth             1.503992e+06\n",
              "Nashville            1.053612e+05\n",
              "NewOrleansMobile     1.351927e+05\n",
              "NewYork              7.122311e+05\n",
              "Northeast            2.110299e+06\n",
              "NorthernNewEngland   2.116358e+05\n",
              "Orlando              1.735524e+05\n",
              "Philadelphia         2.125408e+05\n",
              "PhoenixTucson        5.788264e+05\n",
              "Pittsburgh           5.564008e+04\n",
              "Plains               9.206761e+05\n",
              "Portland             3.270775e+05\n",
              "RaleighGreensboro    1.426116e+05\n",
              "RichmondNorfolk      1.249433e+05\n",
              "Roanoke              7.408879e+04\n",
              "Sacramento           2.223779e+05\n",
              "SanDiego             2.656566e+05\n",
              "SanFrancisco         4.018645e+05\n",
              "Seattle              3.231189e+05\n",
              "SouthCarolina        1.797449e+05\n",
              "SouthCentral         2.991952e+06\n",
              "Southeast            1.820232e+06\n",
              "Spokane              4.605111e+04\n",
              "StLouis              9.489004e+04\n",
              "Syracuse             3.237476e+04\n",
              "Tampa                1.952797e+05\n",
              "TotalUS              1.735130e+07\n",
              "West                 3.215323e+06\n",
              "WestTexNewMexico     4.314085e+05"
            ]
          },
          "metadata": {
            "tags": []
          },
          "execution_count": 17
        }
      ]
    },
    {
      "cell_type": "markdown",
      "metadata": {
        "id": "f3EzwqrS8SXn",
        "colab_type": "text"
      },
      "source": [
        "## ***What is the mean of the 'total volume' column (bar plot)?***"
      ]
    },
    {
      "cell_type": "code",
      "metadata": {
        "id": "XokHBWYK8v86",
        "colab_type": "code",
        "colab": {
          "base_uri": "https://localhost:8080/",
          "height": 1000
        },
        "outputId": "22a53394-23f4-4bf3-d5aa-ba622d991aa6"
      },
      "source": [
        "df1 = df.groupby('region')['Total Volume'].mean()\n",
        "df1.drop([\"TotalUS\"], axis = 0, inplace = True) \n",
        "df1.plot(kind = 'bar',figsize = (15, 15))"
      ],
      "execution_count": 27,
      "outputs": [
        {
          "output_type": "execute_result",
          "data": {
            "text/plain": [
              "<matplotlib.axes._subplots.AxesSubplot at 0x7ff063da2978>"
            ]
          },
          "metadata": {
            "tags": []
          },
          "execution_count": 27
        },
        {
          "output_type": "display_data",
          "data": {
            "image/png": "[encoded data removed]",
            "text/plain": [
              "<Figure size 1080x1080 with 1 Axes>"
            ]
          },
          "metadata": {
            "tags": []
          }
        }
      ]
    },
    {
      "cell_type": "markdown",
      "metadata": {
        "id": "sdsa1TfR_0mL",
        "colab_type": "text"
      },
      "source": [
        "## ***What is the standard deviation of the 'XLarge Bags' column (data set)?***"
      ]
    },
    {
      "cell_type": "code",
      "metadata": {
        "id": "7ytkptBfAIpP",
        "colab_type": "code",
        "colab": {
          "base_uri": "https://localhost:8080/",
          "height": 0
        },
        "outputId": "d90c8847-d96f-4bfe-fa79-b2b3148b51f9"
      },
      "source": [
        "df.groupby('region')[['XLarge Bags']].std().sort_values(by = 'XLarge Bags', ascending = False)"
      ],
      "execution_count": 21,
      "outputs": [
        {
          "output_type": "execute_result",
          "data": {
            "text/html": [
              "<div>\n",
              "<style scoped>\n",
              "    .dataframe tbody tr th:only-of-type {\n",
              "        vertical-align: middle;\n",
              "    }\n",
              "\n",
              "    .dataframe tbody tr th {\n",
              "        vertical-align: top;\n",
              "    }\n",
              "\n",
              "    .dataframe thead th {\n",
              "        text-align: right;\n",
              "    }\n",
              "</style>\n",
              "<table border=\"1\" class=\"dataframe\">\n",
              "  <thead>\n",
              "    <tr style=\"text-align: right;\">\n",
              "      <th></th>\n",
              "      <th>XLarge Bags</th>\n",
              "    </tr>\n",
              "    <tr>\n",
              "      <th>region</th>\n",
              "      <th></th>\n",
              "    </tr>\n",
              "  </thead>\n",
              "  <tbody>\n",
              "    <tr>\n",
              "      <th>TotalUS</th>\n",
              "      <td>98308.014348</td>\n",
              "    </tr>\n",
              "    <tr>\n",
              "      <th>GreatLakes</th>\n",
              "      <td>27972.642359</td>\n",
              "    </tr>\n",
              "    <tr>\n",
              "      <th>California</th>\n",
              "      <td>23400.792014</td>\n",
              "    </tr>\n",
              "    <tr>\n",
              "      <th>Southeast</th>\n",
              "      <td>18103.085634</td>\n",
              "    </tr>\n",
              "    <tr>\n",
              "      <th>SouthCentral</th>\n",
              "      <td>17918.617593</td>\n",
              "    </tr>\n",
              "    <tr>\n",
              "      <th>LosAngeles</th>\n",
              "      <td>17215.907498</td>\n",
              "    </tr>\n",
              "    <tr>\n",
              "      <th>Northeast</th>\n",
              "      <td>10865.870389</td>\n",
              "    </tr>\n",
              "    <tr>\n",
              "      <th>Midsouth</th>\n",
              "      <td>10766.673141</td>\n",
              "    </tr>\n",
              "    <tr>\n",
              "      <th>Detroit</th>\n",
              "      <td>7969.795245</td>\n",
              "    </tr>\n",
              "    <tr>\n",
              "      <th>Plains</th>\n",
              "      <td>7163.049581</td>\n",
              "    </tr>\n",
              "    <tr>\n",
              "      <th>GrandRapids</th>\n",
              "      <td>5269.599411</td>\n",
              "    </tr>\n",
              "    <tr>\n",
              "      <th>West</th>\n",
              "      <td>4512.800749</td>\n",
              "    </tr>\n",
              "    <tr>\n",
              "      <th>DallasFtWorth</th>\n",
              "      <td>4129.846810</td>\n",
              "    </tr>\n",
              "    <tr>\n",
              "      <th>WestTexNewMexico</th>\n",
              "      <td>3779.945735</td>\n",
              "    </tr>\n",
              "    <tr>\n",
              "      <th>Houston</th>\n",
              "      <td>3676.040893</td>\n",
              "    </tr>\n",
              "    <tr>\n",
              "      <th>NewOrleansMobile</th>\n",
              "      <td>3360.730378</td>\n",
              "    </tr>\n",
              "    <tr>\n",
              "      <th>MiamiFtLauderdale</th>\n",
              "      <td>2980.356218</td>\n",
              "    </tr>\n",
              "    <tr>\n",
              "      <th>NewYork</th>\n",
              "      <td>2963.328347</td>\n",
              "    </tr>\n",
              "    <tr>\n",
              "      <th>StLouis</th>\n",
              "      <td>2491.218417</td>\n",
              "    </tr>\n",
              "    <tr>\n",
              "      <th>Orlando</th>\n",
              "      <td>2458.544601</td>\n",
              "    </tr>\n",
              "    <tr>\n",
              "      <th>Tampa</th>\n",
              "      <td>2343.302929</td>\n",
              "    </tr>\n",
              "    <tr>\n",
              "      <th>Chicago</th>\n",
              "      <td>2337.088991</td>\n",
              "    </tr>\n",
              "    <tr>\n",
              "      <th>Atlanta</th>\n",
              "      <td>2053.192103</td>\n",
              "    </tr>\n",
              "    <tr>\n",
              "      <th>BaltimoreWashington</th>\n",
              "      <td>1917.433806</td>\n",
              "    </tr>\n",
              "    <tr>\n",
              "      <th>SouthCarolina</th>\n",
              "      <td>1837.151744</td>\n",
              "    </tr>\n",
              "    <tr>\n",
              "      <th>CincinnatiDayton</th>\n",
              "      <td>1582.016795</td>\n",
              "    </tr>\n",
              "    <tr>\n",
              "      <th>Indianapolis</th>\n",
              "      <td>1518.731782</td>\n",
              "    </tr>\n",
              "    <tr>\n",
              "      <th>HarrisburgScranton</th>\n",
              "      <td>1498.114830</td>\n",
              "    </tr>\n",
              "    <tr>\n",
              "      <th>Sacramento</th>\n",
              "      <td>1434.337318</td>\n",
              "    </tr>\n",
              "    <tr>\n",
              "      <th>Columbus</th>\n",
              "      <td>1326.028767</td>\n",
              "    </tr>\n",
              "    <tr>\n",
              "      <th>RichmondNorfolk</th>\n",
              "      <td>1303.758321</td>\n",
              "    </tr>\n",
              "    <tr>\n",
              "      <th>PhoenixTucson</th>\n",
              "      <td>1284.179261</td>\n",
              "    </tr>\n",
              "    <tr>\n",
              "      <th>SanFrancisco</th>\n",
              "      <td>1262.926734</td>\n",
              "    </tr>\n",
              "    <tr>\n",
              "      <th>RaleighGreensboro</th>\n",
              "      <td>1182.119132</td>\n",
              "    </tr>\n",
              "    <tr>\n",
              "      <th>NorthernNewEngland</th>\n",
              "      <td>1144.225782</td>\n",
              "    </tr>\n",
              "    <tr>\n",
              "      <th>Philadelphia</th>\n",
              "      <td>989.039387</td>\n",
              "    </tr>\n",
              "    <tr>\n",
              "      <th>Jacksonville</th>\n",
              "      <td>959.974025</td>\n",
              "    </tr>\n",
              "    <tr>\n",
              "      <th>SanDiego</th>\n",
              "      <td>922.798018</td>\n",
              "    </tr>\n",
              "    <tr>\n",
              "      <th>BuffaloRochester</th>\n",
              "      <td>800.645794</td>\n",
              "    </tr>\n",
              "    <tr>\n",
              "      <th>Roanoke</th>\n",
              "      <td>794.143287</td>\n",
              "    </tr>\n",
              "    <tr>\n",
              "      <th>Charlotte</th>\n",
              "      <td>768.752876</td>\n",
              "    </tr>\n",
              "    <tr>\n",
              "      <th>Boston</th>\n",
              "      <td>725.480880</td>\n",
              "    </tr>\n",
              "    <tr>\n",
              "      <th>Pittsburgh</th>\n",
              "      <td>672.335121</td>\n",
              "    </tr>\n",
              "    <tr>\n",
              "      <th>HartfordSpringfield</th>\n",
              "      <td>662.759917</td>\n",
              "    </tr>\n",
              "    <tr>\n",
              "      <th>Louisville</th>\n",
              "      <td>652.273593</td>\n",
              "    </tr>\n",
              "    <tr>\n",
              "      <th>Nashville</th>\n",
              "      <td>637.660183</td>\n",
              "    </tr>\n",
              "    <tr>\n",
              "      <th>Denver</th>\n",
              "      <td>575.752551</td>\n",
              "    </tr>\n",
              "    <tr>\n",
              "      <th>Portland</th>\n",
              "      <td>570.023511</td>\n",
              "    </tr>\n",
              "    <tr>\n",
              "      <th>Syracuse</th>\n",
              "      <td>443.374525</td>\n",
              "    </tr>\n",
              "    <tr>\n",
              "      <th>Albany</th>\n",
              "      <td>425.394530</td>\n",
              "    </tr>\n",
              "    <tr>\n",
              "      <th>Seattle</th>\n",
              "      <td>340.961703</td>\n",
              "    </tr>\n",
              "    <tr>\n",
              "      <th>LasVegas</th>\n",
              "      <td>155.738491</td>\n",
              "    </tr>\n",
              "    <tr>\n",
              "      <th>Boise</th>\n",
              "      <td>107.170580</td>\n",
              "    </tr>\n",
              "    <tr>\n",
              "      <th>Spokane</th>\n",
              "      <td>49.075355</td>\n",
              "    </tr>\n",
              "  </tbody>\n",
              "</table>\n",
              "</div>"
            ],
            "text/plain": [
              "                      XLarge Bags\n",
              "region                           \n",
              "TotalUS              98308.014348\n",
              "GreatLakes           27972.642359\n",
              "California           23400.792014\n",
              "Southeast            18103.085634\n",
              "SouthCentral         17918.617593\n",
              "LosAngeles           17215.907498\n",
              "Northeast            10865.870389\n",
              "Midsouth             10766.673141\n",
              "Detroit               7969.795245\n",
              "Plains                7163.049581\n",
              "GrandRapids           5269.599411\n",
              "West                  4512.800749\n",
              "DallasFtWorth         4129.846810\n",
              "WestTexNewMexico      3779.945735\n",
              "Houston               3676.040893\n",
              "NewOrleansMobile      3360.730378\n",
              "MiamiFtLauderdale     2980.356218\n",
              "NewYork               2963.328347\n",
              "StLouis               2491.218417\n",
              "Orlando               2458.544601\n",
              "Tampa                 2343.302929\n",
              "Chicago               2337.088991\n",
              "Atlanta               2053.192103\n",
              "BaltimoreWashington   1917.433806\n",
              "SouthCarolina         1837.151744\n",
              "CincinnatiDayton      1582.016795\n",
              "Indianapolis          1518.731782\n",
              "HarrisburgScranton    1498.114830\n",
              "Sacramento            1434.337318\n",
              "Columbus              1326.028767\n",
              "RichmondNorfolk       1303.758321\n",
              "PhoenixTucson         1284.179261\n",
              "SanFrancisco          1262.926734\n",
              "RaleighGreensboro     1182.119132\n",
              "NorthernNewEngland    1144.225782\n",
              "Philadelphia           989.039387\n",
              "Jacksonville           959.974025\n",
              "SanDiego               922.798018\n",
              "BuffaloRochester       800.645794\n",
              "Roanoke                794.143287\n",
              "Charlotte              768.752876\n",
              "Boston                 725.480880\n",
              "Pittsburgh             672.335121\n",
              "HartfordSpringfield    662.759917\n",
              "Louisville             652.273593\n",
              "Nashville              637.660183\n",
              "Denver                 575.752551\n",
              "Portland               570.023511\n",
              "Syracuse               443.374525\n",
              "Albany                 425.394530\n",
              "Seattle                340.961703\n",
              "LasVegas               155.738491\n",
              "Boise                  107.170580\n",
              "Spokane                 49.075355"
            ]
          },
          "metadata": {
            "tags": []
          },
          "execution_count": 21
        }
      ]
    },
    {
      "cell_type": "markdown",
      "metadata": {
        "id": "Nc7AsuvXAtSR",
        "colab_type": "text"
      },
      "source": [
        "## ***What is the standard deviation of the 'XLarge Bags' column (line plot)?***"
      ]
    },
    {
      "cell_type": "code",
      "metadata": {
        "id": "NQqBAwMsA2rA",
        "colab_type": "code",
        "colab": {
          "base_uri": "https://localhost:8080/",
          "height": 0
        },
        "outputId": "d6520679-596f-48a3-c6c2-84acfc503422"
      },
      "source": [
        "df.groupby('region')['XLarge Bags'].std().plot(x = 'region',y = \"number of XLarge Bags\", figsize = (15, 15))"
      ],
      "execution_count": 23,
      "outputs": [
        {
          "output_type": "execute_result",
          "data": {
            "text/plain": [
              "<matplotlib.axes._subplots.AxesSubplot at 0x7ff063cc9e80>"
            ]
          },
          "metadata": {
            "tags": []
          },
          "execution_count": 23
        },
        {
          "output_type": "display_data",
          "data": {
            "image/png": "[encoded data removed]",
            "text/plain": [
              "<Figure size 1080x1080 with 1 Axes>"
            ]
          },
          "metadata": {
            "tags": []
          }
        }
      ]
    },
    {
      "cell_type": "markdown",
      "metadata": {
        "id": "RGSPDMTI_f8S",
        "colab_type": "text"
      },
      "source": [
        "## ***Which 5 regions currently sells the most amount of avocados?***\n",
        "\n"
      ]
    },
    {
      "cell_type": "code",
      "metadata": {
        "id": "oKHLrAQ0_mTG",
        "colab_type": "code",
        "colab": {
          "base_uri": "https://localhost:8080/",
          "height": 220
        },
        "outputId": "e7126094-2089-4442-cf8d-a37bd86d9dbd"
      },
      "source": [
        "df1 = df.groupby('region')[['Total Volume']].sum().sort_values(by = 'Total Volume', ascending = False)\n",
        "df1.head(5)"
      ],
      "execution_count": 28,
      "outputs": [
        {
          "output_type": "execute_result",
          "data": {
            "text/html": [
              "<div>\n",
              "<style scoped>\n",
              "    .dataframe tbody tr th:only-of-type {\n",
              "        vertical-align: middle;\n",
              "    }\n",
              "\n",
              "    .dataframe tbody tr th {\n",
              "        vertical-align: top;\n",
              "    }\n",
              "\n",
              "    .dataframe thead th {\n",
              "        text-align: right;\n",
              "    }\n",
              "</style>\n",
              "<table border=\"1\" class=\"dataframe\">\n",
              "  <thead>\n",
              "    <tr style=\"text-align: right;\">\n",
              "      <th></th>\n",
              "      <th>Total Volume</th>\n",
              "    </tr>\n",
              "    <tr>\n",
              "      <th>region</th>\n",
              "      <th></th>\n",
              "    </tr>\n",
              "  </thead>\n",
              "  <tbody>\n",
              "    <tr>\n",
              "      <th>TotalUS</th>\n",
              "      <td>5.864740e+09</td>\n",
              "    </tr>\n",
              "    <tr>\n",
              "      <th>West</th>\n",
              "      <td>1.086779e+09</td>\n",
              "    </tr>\n",
              "    <tr>\n",
              "      <th>California</th>\n",
              "      <td>1.028982e+09</td>\n",
              "    </tr>\n",
              "    <tr>\n",
              "      <th>SouthCentral</th>\n",
              "      <td>1.011280e+09</td>\n",
              "    </tr>\n",
              "    <tr>\n",
              "      <th>Northeast</th>\n",
              "      <td>7.132809e+08</td>\n",
              "    </tr>\n",
              "  </tbody>\n",
              "</table>\n",
              "</div>"
            ],
            "text/plain": [
              "              Total Volume\n",
              "region                    \n",
              "TotalUS       5.864740e+09\n",
              "West          1.086779e+09\n",
              "California    1.028982e+09\n",
              "SouthCentral  1.011280e+09\n",
              "Northeast     7.132809e+08"
            ]
          },
          "metadata": {
            "tags": []
          },
          "execution_count": 28
        }
      ]
    },
    {
      "cell_type": "markdown",
      "metadata": {
        "id": "Y5H3NrsZDnka",
        "colab_type": "text"
      },
      "source": [
        "## ***Is average pricing higher with “conventional” or “organic” type?***"
      ]
    },
    {
      "cell_type": "code",
      "metadata": {
        "id": "UFEYAx5VDzli",
        "colab_type": "code",
        "colab": {
          "base_uri": "https://localhost:8080/",
          "height": 133
        },
        "outputId": "ad53ed72-96d0-4c9f-cd42-e5491f1f9bd7"
      },
      "source": [
        "df.groupby('type')[['AveragePrice']].mean()"
      ],
      "execution_count": 25,
      "outputs": [
        {
          "output_type": "execute_result",
          "data": {
            "text/html": [
              "<div>\n",
              "<style scoped>\n",
              "    .dataframe tbody tr th:only-of-type {\n",
              "        vertical-align: middle;\n",
              "    }\n",
              "\n",
              "    .dataframe tbody tr th {\n",
              "        vertical-align: top;\n",
              "    }\n",
              "\n",
              "    .dataframe thead th {\n",
              "        text-align: right;\n",
              "    }\n",
              "</style>\n",
              "<table border=\"1\" class=\"dataframe\">\n",
              "  <thead>\n",
              "    <tr style=\"text-align: right;\">\n",
              "      <th></th>\n",
              "      <th>AveragePrice</th>\n",
              "    </tr>\n",
              "    <tr>\n",
              "      <th>type</th>\n",
              "      <th></th>\n",
              "    </tr>\n",
              "  </thead>\n",
              "  <tbody>\n",
              "    <tr>\n",
              "      <th>conventional</th>\n",
              "      <td>1.158040</td>\n",
              "    </tr>\n",
              "    <tr>\n",
              "      <th>organic</th>\n",
              "      <td>1.653999</td>\n",
              "    </tr>\n",
              "  </tbody>\n",
              "</table>\n",
              "</div>"
            ],
            "text/plain": [
              "              AveragePrice\n",
              "type                      \n",
              "conventional      1.158040\n",
              "organic           1.653999"
            ]
          },
          "metadata": {
            "tags": []
          },
          "execution_count": 25
        }
      ]
    },
    {
      "cell_type": "markdown",
      "metadata": {
        "id": "iedREWTfEG9q",
        "colab_type": "text"
      },
      "source": [
        "## ***Has consumerism for avocados increased, decreased, or stayed the same (2015 and 2018- data set)***"
      ]
    },
    {
      "cell_type": "code",
      "metadata": {
        "id": "xw24gD6ZESUm",
        "colab_type": "code",
        "colab": {
          "base_uri": "https://localhost:8080/",
          "height": 391
        },
        "outputId": "b0df4f00-e550-4cba-b022-48df170c2a08"
      },
      "source": [
        "df.sort_values(by='Date', ascending = True)"
      ],
      "execution_count": 26,
      "outputs": [
        {
          "output_type": "execute_result",
          "data": {
            "text/html": [
              "<div>\n",
              "<style scoped>\n",
              "    .dataframe tbody tr th:only-of-type {\n",
              "        vertical-align: middle;\n",
              "    }\n",
              "\n",
              "    .dataframe tbody tr th {\n",
              "        vertical-align: top;\n",
              "    }\n",
              "\n",
              "    .dataframe thead th {\n",
              "        text-align: right;\n",
              "    }\n",
              "</style>\n",
              "<table border=\"1\" class=\"dataframe\">\n",
              "  <thead>\n",
              "    <tr style=\"text-align: right;\">\n",
              "      <th></th>\n",
              "      <th>Unnamed: 0</th>\n",
              "      <th>Date</th>\n",
              "      <th>AveragePrice</th>\n",
              "      <th>Total Volume</th>\n",
              "      <th>4046</th>\n",
              "      <th>4225</th>\n",
              "      <th>4770</th>\n",
              "      <th>Total Bags</th>\n",
              "      <th>Small Bags</th>\n",
              "      <th>Large Bags</th>\n",
              "      <th>XLarge Bags</th>\n",
              "      <th>type</th>\n",
              "      <th>year</th>\n",
              "      <th>region</th>\n",
              "    </tr>\n",
              "  </thead>\n",
              "  <tbody>\n",
              "    <tr>\n",
              "      <th>11569</th>\n",
              "      <td>51</td>\n",
              "      <td>2015-01-04</td>\n",
              "      <td>1.75</td>\n",
              "      <td>27365.89</td>\n",
              "      <td>9307.34</td>\n",
              "      <td>3844.81</td>\n",
              "      <td>615.28</td>\n",
              "      <td>13598.46</td>\n",
              "      <td>13061.10</td>\n",
              "      <td>537.36</td>\n",
              "      <td>0.00</td>\n",
              "      <td>organic</td>\n",
              "      <td>2015</td>\n",
              "      <td>Southeast</td>\n",
              "    </tr>\n",
              "    <tr>\n",
              "      <th>9593</th>\n",
              "      <td>51</td>\n",
              "      <td>2015-01-04</td>\n",
              "      <td>1.49</td>\n",
              "      <td>17723.17</td>\n",
              "      <td>1189.35</td>\n",
              "      <td>15628.27</td>\n",
              "      <td>0.00</td>\n",
              "      <td>905.55</td>\n",
              "      <td>905.55</td>\n",
              "      <td>0.00</td>\n",
              "      <td>0.00</td>\n",
              "      <td>organic</td>\n",
              "      <td>2015</td>\n",
              "      <td>Chicago</td>\n",
              "    </tr>\n",
              "    <tr>\n",
              "      <th>10009</th>\n",
              "      <td>51</td>\n",
              "      <td>2015-01-04</td>\n",
              "      <td>1.68</td>\n",
              "      <td>2896.72</td>\n",
              "      <td>161.68</td>\n",
              "      <td>206.96</td>\n",
              "      <td>0.00</td>\n",
              "      <td>2528.08</td>\n",
              "      <td>2528.08</td>\n",
              "      <td>0.00</td>\n",
              "      <td>0.00</td>\n",
              "      <td>organic</td>\n",
              "      <td>2015</td>\n",
              "      <td>HarrisburgScranton</td>\n",
              "    </tr>\n",
              "    <tr>\n",
              "      <th>1819</th>\n",
              "      <td>51</td>\n",
              "      <td>2015-01-04</td>\n",
              "      <td>1.52</td>\n",
              "      <td>54956.80</td>\n",
              "      <td>3013.04</td>\n",
              "      <td>35456.88</td>\n",
              "      <td>1561.70</td>\n",
              "      <td>14925.18</td>\n",
              "      <td>11264.80</td>\n",
              "      <td>3660.38</td>\n",
              "      <td>0.00</td>\n",
              "      <td>conventional</td>\n",
              "      <td>2015</td>\n",
              "      <td>Pittsburgh</td>\n",
              "    </tr>\n",
              "    <tr>\n",
              "      <th>9333</th>\n",
              "      <td>51</td>\n",
              "      <td>2015-01-04</td>\n",
              "      <td>1.64</td>\n",
              "      <td>1505.12</td>\n",
              "      <td>1.27</td>\n",
              "      <td>1129.50</td>\n",
              "      <td>0.00</td>\n",
              "      <td>374.35</td>\n",
              "      <td>186.67</td>\n",
              "      <td>187.68</td>\n",
              "      <td>0.00</td>\n",
              "      <td>organic</td>\n",
              "      <td>2015</td>\n",
              "      <td>Boise</td>\n",
              "    </tr>\n",
              "    <tr>\n",
              "      <th>...</th>\n",
              "      <td>...</td>\n",
              "      <td>...</td>\n",
              "      <td>...</td>\n",
              "      <td>...</td>\n",
              "      <td>...</td>\n",
              "      <td>...</td>\n",
              "      <td>...</td>\n",
              "      <td>...</td>\n",
              "      <td>...</td>\n",
              "      <td>...</td>\n",
              "      <td>...</td>\n",
              "      <td>...</td>\n",
              "      <td>...</td>\n",
              "      <td>...</td>\n",
              "    </tr>\n",
              "    <tr>\n",
              "      <th>8574</th>\n",
              "      <td>0</td>\n",
              "      <td>2018-03-25</td>\n",
              "      <td>1.36</td>\n",
              "      <td>908202.13</td>\n",
              "      <td>142681.06</td>\n",
              "      <td>463136.28</td>\n",
              "      <td>174975.75</td>\n",
              "      <td>127409.04</td>\n",
              "      <td>103579.41</td>\n",
              "      <td>22467.04</td>\n",
              "      <td>1362.59</td>\n",
              "      <td>conventional</td>\n",
              "      <td>2018</td>\n",
              "      <td>Chicago</td>\n",
              "    </tr>\n",
              "    <tr>\n",
              "      <th>9018</th>\n",
              "      <td>0</td>\n",
              "      <td>2018-03-25</td>\n",
              "      <td>0.70</td>\n",
              "      <td>9010588.32</td>\n",
              "      <td>3999735.71</td>\n",
              "      <td>966589.50</td>\n",
              "      <td>30130.82</td>\n",
              "      <td>4014132.29</td>\n",
              "      <td>3398569.92</td>\n",
              "      <td>546409.74</td>\n",
              "      <td>69152.63</td>\n",
              "      <td>conventional</td>\n",
              "      <td>2018</td>\n",
              "      <td>SouthCentral</td>\n",
              "    </tr>\n",
              "    <tr>\n",
              "      <th>18141</th>\n",
              "      <td>0</td>\n",
              "      <td>2018-03-25</td>\n",
              "      <td>1.42</td>\n",
              "      <td>163496.70</td>\n",
              "      <td>29253.30</td>\n",
              "      <td>5080.04</td>\n",
              "      <td>0.00</td>\n",
              "      <td>129163.36</td>\n",
              "      <td>109052.26</td>\n",
              "      <td>20111.10</td>\n",
              "      <td>0.00</td>\n",
              "      <td>organic</td>\n",
              "      <td>2018</td>\n",
              "      <td>SouthCentral</td>\n",
              "    </tr>\n",
              "    <tr>\n",
              "      <th>17673</th>\n",
              "      <td>0</td>\n",
              "      <td>2018-03-25</td>\n",
              "      <td>1.70</td>\n",
              "      <td>190257.38</td>\n",
              "      <td>29644.09</td>\n",
              "      <td>70982.10</td>\n",
              "      <td>0.00</td>\n",
              "      <td>89631.19</td>\n",
              "      <td>89424.11</td>\n",
              "      <td>207.08</td>\n",
              "      <td>0.00</td>\n",
              "      <td>organic</td>\n",
              "      <td>2018</td>\n",
              "      <td>California</td>\n",
              "    </tr>\n",
              "    <tr>\n",
              "      <th>8814</th>\n",
              "      <td>0</td>\n",
              "      <td>2018-03-25</td>\n",
              "      <td>1.34</td>\n",
              "      <td>1774776.77</td>\n",
              "      <td>63905.98</td>\n",
              "      <td>908653.71</td>\n",
              "      <td>843.45</td>\n",
              "      <td>801373.63</td>\n",
              "      <td>774634.09</td>\n",
              "      <td>23833.93</td>\n",
              "      <td>2905.61</td>\n",
              "      <td>conventional</td>\n",
              "      <td>2018</td>\n",
              "      <td>NewYork</td>\n",
              "    </tr>\n",
              "  </tbody>\n",
              "</table>\n",
              "<p>18249 rows × 14 columns</p>\n",
              "</div>"
            ],
            "text/plain": [
              "       Unnamed: 0        Date  ...  year              region\n",
              "11569          51  2015-01-04  ...  2015           Southeast\n",
              "9593           51  2015-01-04  ...  2015             Chicago\n",
              "10009          51  2015-01-04  ...  2015  HarrisburgScranton\n",
              "1819           51  2015-01-04  ...  2015          Pittsburgh\n",
              "9333           51  2015-01-04  ...  2015               Boise\n",
              "...           ...         ...  ...   ...                 ...\n",
              "8574            0  2018-03-25  ...  2018             Chicago\n",
              "9018            0  2018-03-25  ...  2018        SouthCentral\n",
              "18141           0  2018-03-25  ...  2018        SouthCentral\n",
              "17673           0  2018-03-25  ...  2018          California\n",
              "8814            0  2018-03-25  ...  2018             NewYork\n",
              "\n",
              "[18249 rows x 14 columns]"
            ]
          },
          "metadata": {
            "tags": []
          },
          "execution_count": 26
        }
      ]
    },
    {
      "cell_type": "markdown",
      "metadata": {
        "id": "d3xjA-quFQnG",
        "colab_type": "text"
      },
      "source": [
        "## ***Has consumerism for avocados increased, decreased, or stayed the same (2015- bar plot)***"
      ]
    },
    {
      "cell_type": "code",
      "metadata": {
        "id": "JWN_3XrFFUXw",
        "colab_type": "code",
        "colab": {
          "base_uri": "https://localhost:8080/",
          "height": 622
        },
        "outputId": "78b91ede-a475-4f4f-90a0-748eea58114b"
      },
      "source": [
        "df2 = df[['Date', 'Total Volume']].head(10)\n",
        "plt.figure(figsize=(5, 10))\n",
        "sns.barplot(x = 'Total Volume', y = 'Date', data = df2)"
      ],
      "execution_count": 30,
      "outputs": [
        {
          "output_type": "execute_result",
          "data": {
            "text/plain": [
              "<matplotlib.axes._subplots.AxesSubplot at 0x7ff06225ed30>"
            ]
          },
          "metadata": {
            "tags": []
          },
          "execution_count": 30
        },
        {
          "output_type": "display_data",
          "data": {
            "image/png": "[encoded data removed]",
            "text/plain": [
              "<Figure size 360x720 with 1 Axes>"
            ]
          },
          "metadata": {
            "tags": []
          }
        }
      ]
    },
    {
      "cell_type": "markdown",
      "metadata": {
        "id": "lLxrfwUWFzHT",
        "colab_type": "text"
      },
      "source": [
        "## ***Has consumerism for avocados increased, decreased, or stayed the same (2018- bar plot)***"
      ]
    },
    {
      "cell_type": "code",
      "metadata": {
        "id": "M53D-TRcF3ZC",
        "colab_type": "code",
        "colab": {
          "base_uri": "https://localhost:8080/",
          "height": 622
        },
        "outputId": "5563b2b4-cfb6-4574-fb76-8aa041646bbd"
      },
      "source": [
        "df2 = df[['Date', 'Total Volume']].tail(10)\n",
        "plt.figure(figsize=(5, 10))\n",
        "sns.barplot(x = 'Total Volume', y = 'Date', data = df2)"
      ],
      "execution_count": 31,
      "outputs": [
        {
          "output_type": "execute_result",
          "data": {
            "text/plain": [
              "<matplotlib.axes._subplots.AxesSubplot at 0x7ff0623d9b70>"
            ]
          },
          "metadata": {
            "tags": []
          },
          "execution_count": 31
        },
        {
          "output_type": "display_data",
          "data": {
            "image/png": "[encoded data removed]",
            "text/plain": [
              "<Figure size 360x720 with 1 Axes>"
            ]
          },
          "metadata": {
            "tags": []
          }
        }
      ]
    },
    {
      "cell_type": "markdown",
      "metadata": {
        "id": "M1q6rpsGGpVV",
        "colab_type": "text"
      },
      "source": [
        "## ***What is the average price of avocados in each region?***"
      ]
    },
    {
      "cell_type": "code",
      "metadata": {
        "id": "lAnihF9XGq7I",
        "colab_type": "code",
        "colab": {
          "base_uri": "https://localhost:8080/",
          "height": 1000
        },
        "outputId": "cd817c79-b4b9-4841-a8d7-477c5ae71a22"
      },
      "source": [
        "df.groupby('region')[['AveragePrice']].mean().sort_values(by = 'AveragePrice', ascending = True)"
      ],
      "execution_count": 32,
      "outputs": [
        {
          "output_type": "execute_result",
          "data": {
            "text/html": [
              "<div>\n",
              "<style scoped>\n",
              "    .dataframe tbody tr th:only-of-type {\n",
              "        vertical-align: middle;\n",
              "    }\n",
              "\n",
              "    .dataframe tbody tr th {\n",
              "        vertical-align: top;\n",
              "    }\n",
              "\n",
              "    .dataframe thead th {\n",
              "        text-align: right;\n",
              "    }\n",
              "</style>\n",
              "<table border=\"1\" class=\"dataframe\">\n",
              "  <thead>\n",
              "    <tr style=\"text-align: right;\">\n",
              "      <th></th>\n",
              "      <th>AveragePrice</th>\n",
              "    </tr>\n",
              "    <tr>\n",
              "      <th>region</th>\n",
              "      <th></th>\n",
              "    </tr>\n",
              "  </thead>\n",
              "  <tbody>\n",
              "    <tr>\n",
              "      <th>Houston</th>\n",
              "      <td>1.047929</td>\n",
              "    </tr>\n",
              "    <tr>\n",
              "      <th>DallasFtWorth</th>\n",
              "      <td>1.085592</td>\n",
              "    </tr>\n",
              "    <tr>\n",
              "      <th>SouthCentral</th>\n",
              "      <td>1.101243</td>\n",
              "    </tr>\n",
              "    <tr>\n",
              "      <th>CincinnatiDayton</th>\n",
              "      <td>1.209201</td>\n",
              "    </tr>\n",
              "    <tr>\n",
              "      <th>Nashville</th>\n",
              "      <td>1.212101</td>\n",
              "    </tr>\n",
              "    <tr>\n",
              "      <th>LosAngeles</th>\n",
              "      <td>1.216006</td>\n",
              "    </tr>\n",
              "    <tr>\n",
              "      <th>Denver</th>\n",
              "      <td>1.218580</td>\n",
              "    </tr>\n",
              "    <tr>\n",
              "      <th>PhoenixTucson</th>\n",
              "      <td>1.224438</td>\n",
              "    </tr>\n",
              "    <tr>\n",
              "      <th>Roanoke</th>\n",
              "      <td>1.247929</td>\n",
              "    </tr>\n",
              "    <tr>\n",
              "      <th>Columbus</th>\n",
              "      <td>1.252781</td>\n",
              "    </tr>\n",
              "    <tr>\n",
              "      <th>WestTexNewMexico</th>\n",
              "      <td>1.261701</td>\n",
              "    </tr>\n",
              "    <tr>\n",
              "      <th>West</th>\n",
              "      <td>1.272219</td>\n",
              "    </tr>\n",
              "    <tr>\n",
              "      <th>Detroit</th>\n",
              "      <td>1.276095</td>\n",
              "    </tr>\n",
              "    <tr>\n",
              "      <th>Louisville</th>\n",
              "      <td>1.286686</td>\n",
              "    </tr>\n",
              "    <tr>\n",
              "      <th>RichmondNorfolk</th>\n",
              "      <td>1.291331</td>\n",
              "    </tr>\n",
              "    <tr>\n",
              "      <th>NewOrleansMobile</th>\n",
              "      <td>1.304793</td>\n",
              "    </tr>\n",
              "    <tr>\n",
              "      <th>Indianapolis</th>\n",
              "      <td>1.313994</td>\n",
              "    </tr>\n",
              "    <tr>\n",
              "      <th>Portland</th>\n",
              "      <td>1.317722</td>\n",
              "    </tr>\n",
              "    <tr>\n",
              "      <th>TotalUS</th>\n",
              "      <td>1.319024</td>\n",
              "    </tr>\n",
              "    <tr>\n",
              "      <th>Atlanta</th>\n",
              "      <td>1.337959</td>\n",
              "    </tr>\n",
              "    <tr>\n",
              "      <th>GreatLakes</th>\n",
              "      <td>1.338550</td>\n",
              "    </tr>\n",
              "    <tr>\n",
              "      <th>Boise</th>\n",
              "      <td>1.348136</td>\n",
              "    </tr>\n",
              "    <tr>\n",
              "      <th>Pittsburgh</th>\n",
              "      <td>1.364320</td>\n",
              "    </tr>\n",
              "    <tr>\n",
              "      <th>LasVegas</th>\n",
              "      <td>1.380917</td>\n",
              "    </tr>\n",
              "    <tr>\n",
              "      <th>California</th>\n",
              "      <td>1.395325</td>\n",
              "    </tr>\n",
              "    <tr>\n",
              "      <th>Southeast</th>\n",
              "      <td>1.398018</td>\n",
              "    </tr>\n",
              "    <tr>\n",
              "      <th>SanDiego</th>\n",
              "      <td>1.398166</td>\n",
              "    </tr>\n",
              "    <tr>\n",
              "      <th>SouthCarolina</th>\n",
              "      <td>1.403284</td>\n",
              "    </tr>\n",
              "    <tr>\n",
              "      <th>Midsouth</th>\n",
              "      <td>1.404763</td>\n",
              "    </tr>\n",
              "    <tr>\n",
              "      <th>Tampa</th>\n",
              "      <td>1.408846</td>\n",
              "    </tr>\n",
              "    <tr>\n",
              "      <th>MiamiFtLauderdale</th>\n",
              "      <td>1.428491</td>\n",
              "    </tr>\n",
              "    <tr>\n",
              "      <th>StLouis</th>\n",
              "      <td>1.430621</td>\n",
              "    </tr>\n",
              "    <tr>\n",
              "      <th>Plains</th>\n",
              "      <td>1.436509</td>\n",
              "    </tr>\n",
              "    <tr>\n",
              "      <th>Seattle</th>\n",
              "      <td>1.442574</td>\n",
              "    </tr>\n",
              "    <tr>\n",
              "      <th>Spokane</th>\n",
              "      <td>1.445592</td>\n",
              "    </tr>\n",
              "    <tr>\n",
              "      <th>NorthernNewEngland</th>\n",
              "      <td>1.477396</td>\n",
              "    </tr>\n",
              "    <tr>\n",
              "      <th>GrandRapids</th>\n",
              "      <td>1.505000</td>\n",
              "    </tr>\n",
              "    <tr>\n",
              "      <th>Orlando</th>\n",
              "      <td>1.506213</td>\n",
              "    </tr>\n",
              "    <tr>\n",
              "      <th>Jacksonville</th>\n",
              "      <td>1.510947</td>\n",
              "    </tr>\n",
              "    <tr>\n",
              "      <th>HarrisburgScranton</th>\n",
              "      <td>1.513284</td>\n",
              "    </tr>\n",
              "    <tr>\n",
              "      <th>BuffaloRochester</th>\n",
              "      <td>1.516834</td>\n",
              "    </tr>\n",
              "    <tr>\n",
              "      <th>Syracuse</th>\n",
              "      <td>1.520325</td>\n",
              "    </tr>\n",
              "    <tr>\n",
              "      <th>Boston</th>\n",
              "      <td>1.530888</td>\n",
              "    </tr>\n",
              "    <tr>\n",
              "      <th>BaltimoreWashington</th>\n",
              "      <td>1.534231</td>\n",
              "    </tr>\n",
              "    <tr>\n",
              "      <th>RaleighGreensboro</th>\n",
              "      <td>1.555118</td>\n",
              "    </tr>\n",
              "    <tr>\n",
              "      <th>Chicago</th>\n",
              "      <td>1.556775</td>\n",
              "    </tr>\n",
              "    <tr>\n",
              "      <th>Albany</th>\n",
              "      <td>1.561036</td>\n",
              "    </tr>\n",
              "    <tr>\n",
              "      <th>Northeast</th>\n",
              "      <td>1.601923</td>\n",
              "    </tr>\n",
              "    <tr>\n",
              "      <th>Charlotte</th>\n",
              "      <td>1.606036</td>\n",
              "    </tr>\n",
              "    <tr>\n",
              "      <th>Sacramento</th>\n",
              "      <td>1.621568</td>\n",
              "    </tr>\n",
              "    <tr>\n",
              "      <th>Philadelphia</th>\n",
              "      <td>1.632130</td>\n",
              "    </tr>\n",
              "    <tr>\n",
              "      <th>NewYork</th>\n",
              "      <td>1.727574</td>\n",
              "    </tr>\n",
              "    <tr>\n",
              "      <th>SanFrancisco</th>\n",
              "      <td>1.804201</td>\n",
              "    </tr>\n",
              "    <tr>\n",
              "      <th>HartfordSpringfield</th>\n",
              "      <td>1.818639</td>\n",
              "    </tr>\n",
              "  </tbody>\n",
              "</table>\n",
              "</div>"
            ],
            "text/plain": [
              "                     AveragePrice\n",
              "region                           \n",
              "Houston                  1.047929\n",
              "DallasFtWorth            1.085592\n",
              "SouthCentral             1.101243\n",
              "CincinnatiDayton         1.209201\n",
              "Nashville                1.212101\n",
              "LosAngeles               1.216006\n",
              "Denver                   1.218580\n",
              "PhoenixTucson            1.224438\n",
              "Roanoke                  1.247929\n",
              "Columbus                 1.252781\n",
              "WestTexNewMexico         1.261701\n",
              "West                     1.272219\n",
              "Detroit                  1.276095\n",
              "Louisville               1.286686\n",
              "RichmondNorfolk          1.291331\n",
              "NewOrleansMobile         1.304793\n",
              "Indianapolis             1.313994\n",
              "Portland                 1.317722\n",
              "TotalUS                  1.319024\n",
              "Atlanta                  1.337959\n",
              "GreatLakes               1.338550\n",
              "Boise                    1.348136\n",
              "Pittsburgh               1.364320\n",
              "LasVegas                 1.380917\n",
              "California               1.395325\n",
              "Southeast                1.398018\n",
              "SanDiego                 1.398166\n",
              "SouthCarolina            1.403284\n",
              "Midsouth                 1.404763\n",
              "Tampa                    1.408846\n",
              "MiamiFtLauderdale        1.428491\n",
              "StLouis                  1.430621\n",
              "Plains                   1.436509\n",
              "Seattle                  1.442574\n",
              "Spokane                  1.445592\n",
              "NorthernNewEngland       1.477396\n",
              "GrandRapids              1.505000\n",
              "Orlando                  1.506213\n",
              "Jacksonville             1.510947\n",
              "HarrisburgScranton       1.513284\n",
              "BuffaloRochester         1.516834\n",
              "Syracuse                 1.520325\n",
              "Boston                   1.530888\n",
              "BaltimoreWashington      1.534231\n",
              "RaleighGreensboro        1.555118\n",
              "Chicago                  1.556775\n",
              "Albany                   1.561036\n",
              "Northeast                1.601923\n",
              "Charlotte                1.606036\n",
              "Sacramento               1.621568\n",
              "Philadelphia             1.632130\n",
              "NewYork                  1.727574\n",
              "SanFrancisco             1.804201\n",
              "HartfordSpringfield      1.818639"
            ]
          },
          "metadata": {
            "tags": []
          },
          "execution_count": 32
        }
      ]
    },
    {
      "cell_type": "markdown",
      "metadata": {
        "id": "eQlcJ9poHq6T",
        "colab_type": "text"
      },
      "source": [
        "## ***Do consumers purchase more avocados in small bags or large bags?***"
      ]
    },
    {
      "cell_type": "code",
      "metadata": {
        "id": "CeOBG8nLHvJQ",
        "colab_type": "code",
        "colab": {
          "base_uri": "https://localhost:8080/",
          "height": 133
        },
        "outputId": "1919c280-cea0-4868-a5bd-bd0f042de80d"
      },
      "source": [
        "df.groupby('type')[['Small Bags', 'Large Bags']].sum()"
      ],
      "execution_count": 33,
      "outputs": [
        {
          "output_type": "execute_result",
          "data": {
            "text/html": [
              "<div>\n",
              "<style scoped>\n",
              "    .dataframe tbody tr th:only-of-type {\n",
              "        vertical-align: middle;\n",
              "    }\n",
              "\n",
              "    .dataframe tbody tr th {\n",
              "        vertical-align: top;\n",
              "    }\n",
              "\n",
              "    .dataframe thead th {\n",
              "        text-align: right;\n",
              "    }\n",
              "</style>\n",
              "<table border=\"1\" class=\"dataframe\">\n",
              "  <thead>\n",
              "    <tr style=\"text-align: right;\">\n",
              "      <th></th>\n",
              "      <th>Small Bags</th>\n",
              "      <th>Large Bags</th>\n",
              "    </tr>\n",
              "    <tr>\n",
              "      <th>type</th>\n",
              "      <th></th>\n",
              "      <th></th>\n",
              "    </tr>\n",
              "  </thead>\n",
              "  <tbody>\n",
              "    <tr>\n",
              "      <th>conventional</th>\n",
              "      <td>3.164183e+09</td>\n",
              "      <td>9.259030e+08</td>\n",
              "    </tr>\n",
              "    <tr>\n",
              "      <th>organic</th>\n",
              "      <td>1.606877e+08</td>\n",
              "      <td>6.571281e+07</td>\n",
              "    </tr>\n",
              "  </tbody>\n",
              "</table>\n",
              "</div>"
            ],
            "text/plain": [
              "                Small Bags    Large Bags\n",
              "type                                    \n",
              "conventional  3.164183e+09  9.259030e+08\n",
              "organic       1.606877e+08  6.571281e+07"
            ]
          },
          "metadata": {
            "tags": []
          },
          "execution_count": 33
        }
      ]
    },
    {
      "cell_type": "markdown",
      "metadata": {
        "id": "82TYomrmJD5t",
        "colab_type": "text"
      },
      "source": [
        "## ***From all avocados produced, how many are small, medium, or large?***\n",
        "## ***NOTE: 4046 = small, 4225 = medium, 4770 = large***"
      ]
    },
    {
      "cell_type": "code",
      "metadata": {
        "id": "jJ_D9WedJcyg",
        "colab_type": "code",
        "colab": {
          "base_uri": "https://localhost:8080/",
          "height": 1000
        },
        "outputId": "d30976e3-d301-46b5-82ed-30e53d2ca06a"
      },
      "source": [
        "df2 = df.groupby(['region'])['4046', '4225', '4770'].sum()\n",
        "df2.drop(['TotalUS'], axis = 0, inplace = True)\n",
        "df2.plot(kind = 'bar', stacked = True, figsize = (15, 20))"
      ],
      "execution_count": 39,
      "outputs": [
        {
          "output_type": "execute_result",
          "data": {
            "text/plain": [
              "<matplotlib.axes._subplots.AxesSubplot at 0x7ff06188c860>"
            ]
          },
          "metadata": {
            "tags": []
          },
          "execution_count": 39
        },
        {
          "output_type": "display_data",
          "data": {
            "image/png": "[encoded data removed]",
            "text/plain": [
              "<Figure size 1080x1440 with 1 Axes>"
            ]
          },
          "metadata": {
            "tags": []
          }
        }
      ]
    },
    {
      "cell_type": "markdown",
      "metadata": {
        "id": "JUwvJgYYKwWK",
        "colab_type": "text"
      },
      "source": [
        "## ***How have the sizes of small avocados changed between 2015 and 2018 in the US?***"
      ]
    },
    {
      "cell_type": "code",
      "metadata": {
        "id": "jVctp97NK3uP",
        "colab_type": "code",
        "colab": {
          "base_uri": "https://localhost:8080/",
          "height": 280
        },
        "outputId": "3a5037ea-ac70-4250-9066-106652a2c820"
      },
      "source": [
        "df.groupby('year')['4046'].mean().plot(kind = 'pie', subplots = True)"
      ],
      "execution_count": 40,
      "outputs": [
        {
          "output_type": "execute_result",
          "data": {
            "text/plain": [
              "array([<matplotlib.axes._subplots.AxesSubplot object at 0x7ff0615f7ef0>],\n",
              "      dtype=object)"
            ]
          },
          "metadata": {
            "tags": []
          },
          "execution_count": 40
        },
        {
          "output_type": "display_data",
          "data": {
            "image/png": "[encoded data removed]",
            "text/plain": [
              "<Figure size 432x288 with 1 Axes>"
            ]
          },
          "metadata": {
            "tags": []
          }
        }
      ]
    },
    {
      "cell_type": "markdown",
      "metadata": {
        "id": "FzwQxHAMK_T3",
        "colab_type": "text"
      },
      "source": [
        "## ***How have the sizes of medium avocados changed between 2015 and 2018 in the US?***"
      ]
    },
    {
      "cell_type": "code",
      "metadata": {
        "id": "947JD2RKLM4o",
        "colab_type": "code",
        "colab": {
          "base_uri": "https://localhost:8080/",
          "height": 280
        },
        "outputId": "8fa539d9-0e86-4ca4-930e-f145ee73cf5d"
      },
      "source": [
        "df.groupby('year')['4225'].mean().plot(kind = 'pie', subplots = True)"
      ],
      "execution_count": 41,
      "outputs": [
        {
          "output_type": "execute_result",
          "data": {
            "text/plain": [
              "array([<matplotlib.axes._subplots.AxesSubplot object at 0x7ff0615df630>],\n",
              "      dtype=object)"
            ]
          },
          "metadata": {
            "tags": []
          },
          "execution_count": 41
        },
        {
          "output_type": "display_data",
          "data": {
            "image/png": "[encoded data removed]",
            "text/plain": [
              "<Figure size 432x288 with 1 Axes>"
            ]
          },
          "metadata": {
            "tags": []
          }
        }
      ]
    },
    {
      "cell_type": "markdown",
      "metadata": {
        "id": "GGkKXuw9LRoC",
        "colab_type": "text"
      },
      "source": [
        "## ***How have the sizes of large avocados changed between 2015 and 2018 in the US?***"
      ]
    },
    {
      "cell_type": "code",
      "metadata": {
        "id": "saHtu2UcLYjq",
        "colab_type": "code",
        "colab": {
          "base_uri": "https://localhost:8080/",
          "height": 280
        },
        "outputId": "f1bd8d7a-20e7-4c75-ba4e-6fc5259f4238"
      },
      "source": [
        "df.groupby('year')['4770'].mean().plot(kind = 'pie', subplots = True)"
      ],
      "execution_count": 42,
      "outputs": [
        {
          "output_type": "execute_result",
          "data": {
            "text/plain": [
              "array([<matplotlib.axes._subplots.AxesSubplot object at 0x7ff06159c7f0>],\n",
              "      dtype=object)"
            ]
          },
          "metadata": {
            "tags": []
          },
          "execution_count": 42
        },
        {
          "output_type": "display_data",
          "data": {
            "image/png": "[encoded data removed]",
            "text/plain": [
              "<Figure size 432x288 with 1 Axes>"
            ]
          },
          "metadata": {
            "tags": []
          }
        }
      ]
    }
  ]
}